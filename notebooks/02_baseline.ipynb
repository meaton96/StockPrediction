{
 "cells": [
  {
   "cell_type": "code",
   "execution_count": 1,
   "id": "4b00a7ce-1d69-43af-96bf-6d7b702e0621",
   "metadata": {},
   "outputs": [],
   "source": [
    "%reload_ext autoreload\n",
    "%autoreload 2\n",
    "import sys, os\n",
    "sys.path.append(os.path.abspath(\"..\"))"
   ]
  },
  {
   "cell_type": "markdown",
   "id": "eadbdd66",
   "metadata": {},
   "source": [
    "# Baseline models (Naive, Momentum, Dummy)"
   ]
  },
  {
   "cell_type": "markdown",
   "id": "78e6d0de",
   "metadata": {},
   "source": [
    "The goal here is to establish a baseline to measure against\n"
   ]
  },
  {
   "cell_type": "code",
   "execution_count": null,
   "id": "27ec2b4f-842e-4867-9232-1f036d8f4e33",
   "metadata": {},
   "outputs": [],
   "source": []
  }
 ],
 "metadata": {
  "kernelspec": {
   "display_name": "Python 3 (ipykernel)",
   "language": "python",
   "name": "python3"
  },
  "language_info": {
   "codemirror_mode": {
    "name": "ipython",
    "version": 3
   },
   "file_extension": ".py",
   "mimetype": "text/x-python",
   "name": "python",
   "nbconvert_exporter": "python",
   "pygments_lexer": "ipython3",
   "version": "3.13.7"
  }
 },
 "nbformat": 4,
 "nbformat_minor": 5
}
