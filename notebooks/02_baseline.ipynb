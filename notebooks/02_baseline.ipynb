{
 "cells": [
  {
   "cell_type": "code",
   "execution_count": 17,
   "id": "4b00a7ce-1d69-43af-96bf-6d7b702e0621",
   "metadata": {},
   "outputs": [],
   "source": [
    "%reload_ext autoreload\n",
    "%autoreload 2\n",
    "import sys, os\n",
    "sys.path.append(os.path.abspath(\"..\"))\n",
    "\n",
    "from src.data_eng.pipeline import run_pipeline"
   ]
  },
  {
   "cell_type": "markdown",
   "id": "eadbdd66",
   "metadata": {},
   "source": [
    "# Baseline models (Naive, Momentum, Dummy)"
   ]
  },
  {
   "cell_type": "markdown",
   "id": "78e6d0de",
   "metadata": {},
   "source": [
    "The goal here is to establish a baseline to measure against\n"
   ]
  },
  {
   "cell_type": "code",
   "execution_count": 8,
   "id": "27ec2b4f-842e-4867-9232-1f036d8f4e33",
   "metadata": {},
   "outputs": [],
   "source": [
    "from src.config import Config\n",
    "\n",
    "conf = Config(\n",
    "    features=[],\n",
    "    target={'horizon': 5, 'threshold': 0.01},\n",
    "    #ticker_list=['AAPL','META'],\n",
    "    validate_cutoff='2022-01-01',      # FINAL TEST START\n",
    "    fold_len='365D',\n",
    "    fold_mode='expanding',             # or 'sliding'\n",
    "    sliding_train_years=None,          # set e.g. 5 if using sliding\n",
    "    embargo_days=None                  # defaults to horizon=5\n",
    ")"
   ]
  },
  {
   "cell_type": "code",
   "execution_count": 18,
   "id": "0a45688c",
   "metadata": {},
   "outputs": [
    {
     "name": "stdout",
     "output_type": "stream",
     "text": [
      "begin fetching data from yfinance...\n",
      "['AAPL', 'MSFT', 'NVDA', 'GOOGL', 'AMZN', 'META', 'TSLA', 'AVGO', 'TSM', 'ORCL', 'WMT', 'JPM', 'INTC', 'UNH', 'HD']\n",
      "saved: ../data/raw/AAPL.csv\n",
      "saved: ../data/raw/MSFT.csv\n",
      "saved: ../data/raw/NVDA.csv\n",
      "saved: ../data/raw/GOOGL.csv\n",
      "saved: ../data/raw/AMZN.csv\n",
      "saved: ../data/raw/META.csv\n",
      "saved: ../data/raw/TSLA.csv\n",
      "saved: ../data/raw/AVGO.csv\n",
      "saved: ../data/raw/TSM.csv\n",
      "saved: ../data/raw/ORCL.csv\n",
      "saved: ../data/raw/WMT.csv\n",
      "saved: ../data/raw/JPM.csv\n",
      "saved: ../data/raw/INTC.csv\n",
      "saved: ../data/raw/UNH.csv\n",
      "saved: ../data/raw/HD.csv\n",
      "done fetching data\n",
      "being data cleaning...\n",
      "done cleaning data\n",
      "begin feature engineering\n",
      "make features for AAPL\n",
      "make features for MSFT\n",
      "make features for NVDA\n",
      "make features for GOOGL\n",
      "make features for AMZN\n",
      "make features for META\n",
      "make features for TSLA\n",
      "make features for AVGO\n",
      "make features for TSM\n",
      "make features for ORCL\n",
      "make features for WMT\n",
      "make features for JPM\n",
      "make features for INTC\n",
      "make features for UNH\n",
      "make features for HD\n",
      "Done egineering features\n",
      "writing csvs...\n",
      "saved: /Users/mike/Documents/GitHub/StockPrediction/data/processed/AAPL.csv\n",
      "saved: /Users/mike/Documents/GitHub/StockPrediction/data/processed/MSFT.csv\n",
      "saved: /Users/mike/Documents/GitHub/StockPrediction/data/processed/NVDA.csv\n",
      "saved: /Users/mike/Documents/GitHub/StockPrediction/data/processed/GOOGL.csv\n",
      "saved: /Users/mike/Documents/GitHub/StockPrediction/data/processed/AMZN.csv\n",
      "saved: /Users/mike/Documents/GitHub/StockPrediction/data/processed/META.csv\n",
      "saved: /Users/mike/Documents/GitHub/StockPrediction/data/processed/TSLA.csv\n",
      "saved: /Users/mike/Documents/GitHub/StockPrediction/data/processed/AVGO.csv\n",
      "saved: /Users/mike/Documents/GitHub/StockPrediction/data/processed/TSM.csv\n",
      "saved: /Users/mike/Documents/GitHub/StockPrediction/data/processed/ORCL.csv\n",
      "saved: /Users/mike/Documents/GitHub/StockPrediction/data/processed/WMT.csv\n",
      "saved: /Users/mike/Documents/GitHub/StockPrediction/data/processed/JPM.csv\n",
      "saved: /Users/mike/Documents/GitHub/StockPrediction/data/processed/INTC.csv\n",
      "saved: /Users/mike/Documents/GitHub/StockPrediction/data/processed/UNH.csv\n",
      "saved: /Users/mike/Documents/GitHub/StockPrediction/data/processed/HD.csv\n"
     ]
    }
   ],
   "source": [
    "# Naive Persistance, predict same as previous day\n",
    "run_pipeline(conf)"
   ]
  },
  {
   "cell_type": "code",
   "execution_count": 21,
   "id": "ee5684f4",
   "metadata": {},
   "outputs": [
    {
     "name": "stdout",
     "output_type": "stream",
     "text": [
      "(124470, 7)\n",
      "<class 'pandas.core.frame.DataFrame'>\n",
      "Index: 124470 entries, 0 to 11087\n",
      "Data columns (total 7 columns):\n",
      " #   Column  Non-Null Count   Dtype  \n",
      "---  ------  --------------   -----  \n",
      " 0   Date    124470 non-null  object \n",
      " 1   Open    124470 non-null  float64\n",
      " 2   High    124470 non-null  float64\n",
      " 3   Low     124470 non-null  float64\n",
      " 4   Close   124470 non-null  float64\n",
      " 5   Volume  124470 non-null  int64  \n",
      " 6   Target  124470 non-null  int64  \n",
      "dtypes: float64(4), int64(2), object(1)\n",
      "memory usage: 7.6+ MB\n",
      "None\n"
     ]
    }
   ],
   "source": [
    "import numpy as np\n",
    "import pandas as pd\n",
    "\n",
    "ticker_list = ['AAPL', 'MSFT', 'NVDA', 'GOOGL', 'AMZN', 'META', 'TSLA', 'AVGO', 'TSM', 'ORCL', 'WMT', 'JPM', 'INTC', 'UNH', 'HD']\n",
    "\n",
    "\n",
    "df = pd.DataFrame()\n",
    "\n",
    "for ticker in ticker_list:\n",
    "    df = pd.concat([df, pd.read_csv(conf.processed_data_path / f'{ticker}.csv')])\n",
    "\n",
    "print(df.shape)\n",
    "print(df.info())"
   ]
  },
  {
   "cell_type": "code",
   "execution_count": 26,
   "id": "16b32aae",
   "metadata": {},
   "outputs": [],
   "source": [
    "from sklearn.metrics import accuracy_score, roc_auc_score, classification_report, confusion_matrix\n",
    "\n",
    "def report(y_true, y_pred):\n",
    "    acc = accuracy_score(y_true, y_pred)\n",
    "    auc = roc_auc_score(y_true, y_pred)\n",
    "    print(f\"acc: {acc:.4f}\")\n",
    "    print(f\"roc auc: {auc:.4f}\")\n",
    "    print(confusion_matrix(y_true, y_pred))\n",
    "    print(classification_report(y_true, y_pred))"
   ]
  },
  {
   "cell_type": "code",
   "execution_count": 27,
   "id": "fd4b7531",
   "metadata": {},
   "outputs": [
    {
     "name": "stdout",
     "output_type": "stream",
     "text": [
      "acc: 0.5225\n",
      "roc auc: 0.4891\n",
      "[[16588 29715]\n",
      " [29711 48451]]\n",
      "              precision    recall  f1-score   support\n",
      "\n",
      "           0       0.36      0.36      0.36     46303\n",
      "           1       0.62      0.62      0.62     78162\n",
      "\n",
      "    accuracy                           0.52    124465\n",
      "   macro avg       0.49      0.49      0.49    124465\n",
      "weighted avg       0.52      0.52      0.52    124465\n",
      "\n"
     ]
    }
   ],
   "source": [
    "df_n = df.copy()\n",
    "df_n['NaivePred'] = df_n['Target'].shift(5)\n",
    "mask = df_n['NaivePred'].notna()\n",
    "y_true = df_n.loc[mask, 'Target']\n",
    "y_pred = df_n.loc[mask, 'NaivePred']\n",
    "\n",
    "report(y_true, y_pred)"
   ]
  },
  {
   "cell_type": "markdown",
   "id": "c966ee54",
   "metadata": {},
   "source": [
    "Dummy classifier will always predict up, since training data is 2021-2025 (Bull market) we have pretty high accuracy"
   ]
  },
  {
   "cell_type": "code",
   "execution_count": 28,
   "id": "69e5ac32",
   "metadata": {},
   "outputs": [
    {
     "name": "stdout",
     "output_type": "stream",
     "text": [
      "acc: 0.6376\n",
      "roc auc: 0.5000\n",
      "[[    0  6431]\n",
      " [    0 11314]]\n",
      "              precision    recall  f1-score   support\n",
      "\n",
      "           0       0.00      0.00      0.00      6431\n",
      "           1       0.64      1.00      0.78     11314\n",
      "\n",
      "    accuracy                           0.64     17745\n",
      "   macro avg       0.32      0.50      0.39     17745\n",
      "weighted avg       0.41      0.64      0.50     17745\n",
      "\n"
     ]
    },
    {
     "name": "stderr",
     "output_type": "stream",
     "text": [
      "/Users/mike/Documents/GitHub/StockPrediction/.venv/lib/python3.13/site-packages/sklearn/metrics/_classification.py:1731: UndefinedMetricWarning: Precision is ill-defined and being set to 0.0 in labels with no predicted samples. Use `zero_division` parameter to control this behavior.\n",
      "  _warn_prf(average, modifier, f\"{metric.capitalize()} is\", result.shape[0])\n",
      "/Users/mike/Documents/GitHub/StockPrediction/.venv/lib/python3.13/site-packages/sklearn/metrics/_classification.py:1731: UndefinedMetricWarning: Precision is ill-defined and being set to 0.0 in labels with no predicted samples. Use `zero_division` parameter to control this behavior.\n",
      "  _warn_prf(average, modifier, f\"{metric.capitalize()} is\", result.shape[0])\n",
      "/Users/mike/Documents/GitHub/StockPrediction/.venv/lib/python3.13/site-packages/sklearn/metrics/_classification.py:1731: UndefinedMetricWarning: Precision is ill-defined and being set to 0.0 in labels with no predicted samples. Use `zero_division` parameter to control this behavior.\n",
      "  _warn_prf(average, modifier, f\"{metric.capitalize()} is\", result.shape[0])\n"
     ]
    }
   ],
   "source": [
    "from sklearn.dummy import DummyClassifier\n",
    "\n",
    "dummy_clf = DummyClassifier(strategy='most_frequent', random_state=42)\n",
    "\n",
    "q = df['Date'] < '2021-01-01'\n",
    "\n",
    "df_train = df[q]\n",
    "df_test = df[~q]\n",
    "\n",
    "X_train = df_train.drop(columns=['Target'])\n",
    "y_train = df_train['Target']\n",
    "dummy_clf.fit(X_train,y_train)\n",
    "\n",
    "X_test = df_test.drop(columns=['Target'])\n",
    "\n",
    "y_true = df_test['Target']\n",
    "y_pred = dummy_clf.predict(X_test)\n",
    "\n",
    "report(y_true, y_pred)\n"
   ]
  },
  {
   "cell_type": "code",
   "execution_count": null,
   "id": "251f0a4f",
   "metadata": {},
   "outputs": [],
   "source": []
  }
 ],
 "metadata": {
  "kernelspec": {
   "display_name": ".venv",
   "language": "python",
   "name": "python3"
  },
  "language_info": {
   "codemirror_mode": {
    "name": "ipython",
    "version": 3
   },
   "file_extension": ".py",
   "mimetype": "text/x-python",
   "name": "python",
   "nbconvert_exporter": "python",
   "pygments_lexer": "ipython3",
   "version": "3.13.5"
  }
 },
 "nbformat": 4,
 "nbformat_minor": 5
}
