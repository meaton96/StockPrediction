{
 "cells": [
  {
   "cell_type": "code",
   "execution_count": 6,
   "id": "f1b6d87d-81a6-4a29-9802-df792a1db093",
   "metadata": {},
   "outputs": [],
   "source": [
    "%reload_ext autoreload\n",
    "%autoreload 2\n",
    "import sys, os\n",
    "sys.path.append(os.path.abspath(\"..\"))\n",
    "\n",
    "from src.data_eng.pipeline import main as run_pipeline"
   ]
  },
  {
   "cell_type": "markdown",
   "id": "bc14d94f",
   "metadata": {},
   "source": [
    "Creates a single feature (1 day return) and adds the default target (5 day horizon +1% return) on the tickers from the ticker list"
   ]
  },
  {
   "cell_type": "code",
   "execution_count": null,
   "id": "1dbd177a",
   "metadata": {},
   "outputs": [
    {
     "name": "stdout",
     "output_type": "stream",
     "text": [
      "['AAPL', 'META']\n",
      "/home/mike/Git-projects/StockPrediction/notebooks\n",
      "begin fetching data from yfinance...\n",
      "saved: ../data/raw/MSFT.csv\n",
      "saved: ../data/raw/NVDA.csv\n",
      "saved: ../data/raw/GOOGL.csv\n",
      "saved: ../data/raw/AMZN.csv\n",
      "saved: ../data/raw/META.csv\n",
      "saved: ../data/raw/TSLA.csv\n",
      "saved: ../data/raw/AVGO.csv\n",
      "saved: ../data/raw/TSM.csv\n",
      "saved: ../data/raw/ORCL.csv\n",
      "saved: ../data/raw/WMT.csv\n",
      "saved: ../data/raw/JPM.csv\n",
      "saved: ../data/raw/INTC.csv\n",
      "saved: ../data/raw/UNH.csv\n",
      "saved: ../data/raw/HD.csv\n",
      "done fetching data\n",
      "being data cleaning...\n",
      "done cleaning data\n",
      "begin feature engineering\n",
      "make features for MSFT\n",
      "make features for NVDA\n",
      "make features for GOOGL\n",
      "make features for AMZN\n",
      "make features for META\n",
      "make features for TSLA\n",
      "make features for AVGO\n",
      "make features for TSM\n",
      "make features for ORCL\n",
      "make features for WMT\n",
      "make features for JPM\n",
      "make features for INTC\n",
      "make features for UNH\n",
      "make features for HD\n",
      "Done egineering features\n"
     ]
    },
    {
     "ename": "KeyError",
     "evalue": "'AAPL'",
     "output_type": "error",
     "traceback": [
      "\u001b[31m---------------------------------------------------------------------------\u001b[39m",
      "\u001b[31mKeyError\u001b[39m                                  Traceback (most recent call last)",
      "\u001b[36mCell\u001b[39m\u001b[36m \u001b[39m\u001b[32mIn[15]\u001b[39m\u001b[32m, line 16\u001b[39m\n\u001b[32m     13\u001b[39m \u001b[38;5;28;01mfrom\u001b[39;00m\u001b[38;5;250m \u001b[39m\u001b[34;01msrc\u001b[39;00m\u001b[34;01m.\u001b[39;00m\u001b[34;01mconfig\u001b[39;00m\u001b[38;5;250m \u001b[39m\u001b[38;5;28;01mimport\u001b[39;00m ticker_list\n\u001b[32m     14\u001b[39m \u001b[38;5;28mprint\u001b[39m(ticker_list)\n\u001b[32m---> \u001b[39m\u001b[32m16\u001b[39m \u001b[43mrun_pipeline\u001b[49m\u001b[43m(\u001b[49m\u001b[43m)\u001b[49m\n",
      "\u001b[36mFile \u001b[39m\u001b[32m~/Git-projects/StockPrediction/src/data_eng/pipeline.py:65\u001b[39m, in \u001b[36mmain\u001b[39m\u001b[34m(features, target, ticker_list)\u001b[39m\n\u001b[32m      0\u001b[39m <Error retrieving source code with stack_data see ipython/ipython#13598>\n",
      "\u001b[31mKeyError\u001b[39m: 'AAPL'"
     ]
    }
   ],
   "source": [
    "# first set data config\n",
    "\n",
    "from src.config import Config\n",
    "\n",
    "conf = Config(\n",
    "    features = ['r_1d'],    # 1 day return\n",
    "    target = {'horizon' : 5, 'threshold' : 0.01}, # default target\n",
    "    ticker_list = ['AAPL', 'META'], # 2 tickers for example\n",
    "    train_cutoff = '2019-01-01', #training end date\n",
    "    validate_cutoff = '2022-01-01' #validation end date, test will be this until present\n",
    ")\n",
    "\n",
    "\n",
    "\n",
    "run_pipeline()\n",
    "\n"
   ]
  },
  {
   "cell_type": "markdown",
   "id": "085a54f0",
   "metadata": {},
   "source": [
    "Read the Data back in after processing to a data bundle. This pre splits our data into Validation"
   ]
  },
  {
   "cell_type": "code",
   "execution_count": null,
   "id": "8f86d265",
   "metadata": {},
   "outputs": [],
   "source": []
  }
 ],
 "metadata": {
  "kernelspec": {
   "display_name": ".venv",
   "language": "python",
   "name": "python3"
  },
  "language_info": {
   "codemirror_mode": {
    "name": "ipython",
    "version": 3
   },
   "file_extension": ".py",
   "mimetype": "text/x-python",
   "name": "python",
   "nbconvert_exporter": "python",
   "pygments_lexer": "ipython3",
   "version": "3.13.7"
  }
 },
 "nbformat": 4,
 "nbformat_minor": 5
}
