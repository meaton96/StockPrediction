{
 "cells": [
  {
   "cell_type": "code",
   "execution_count": 2,
   "id": "1b3b4e8c-1ba1-45b8-8441-635eb1da4fb7",
   "metadata": {},
   "outputs": [],
   "source": [
    "%reload_ext autoreload\n",
    "%autoreload 2\n",
    "import sys, os\n",
    "sys.path.append(os.path.abspath(\"..\"))\n",
    "\n",
    "from src.data_eng.pipeline import run_pipeline\n"
   ]
  },
  {
   "cell_type": "code",
   "execution_count": 9,
   "id": "111e191a",
   "metadata": {},
   "outputs": [],
   "source": [
    "from src.config import Config\n",
    "\n",
    "conf = Config(\n",
    "    #features=[],\n",
    "    add_int_features=True,\n",
    "    target={'horizon': 5, 'threshold': 0.01},\n",
    "    ticker_list=['AAPL','META'],\n",
    "    validate_cutoff='2022-01-01',      # FINAL TEST START\n",
    "    fold_len='365D',\n",
    "    fold_mode='expanding',             # or 'sliding'\n",
    "    sliding_train_years=None,          # set e.g. 5 if using sliding\n",
    "    embargo_days=None                  # defaults to horizon=5\n",
    ")"
   ]
  },
  {
   "cell_type": "code",
   "execution_count": 14,
   "id": "ce3891c4",
   "metadata": {},
   "outputs": [
    {
     "name": "stdout",
     "output_type": "stream",
     "text": [
      "begin fetching data from yfinance...\n",
      "['AAPL', 'META']\n",
      "saved: ../data/raw/AAPL.csv\n",
      "saved: ../data/raw/META.csv\n",
      "done fetching data\n",
      "being data cleaning...\n",
      "done cleaning data\n",
      "begin feature engineering\n",
      "make features for AAPL\n",
      "make features for META\n",
      "Done egineering features\n",
      "writing csvs...\n",
      "saved: /Users/mike/Documents/GitHub/StockPrediction/data/processed/AAPL.csv\n",
      "saved: /Users/mike/Documents/GitHub/StockPrediction/data/processed/META.csv\n"
     ]
    }
   ],
   "source": [
    "run_pipeline(conf)"
   ]
  },
  {
   "cell_type": "code",
   "execution_count": 11,
   "id": "60b84920",
   "metadata": {},
   "outputs": [],
   "source": [
    "import numpy as np\n",
    "import pandas as pd\n"
   ]
  },
  {
   "cell_type": "code",
   "execution_count": 20,
   "id": "5468ba24",
   "metadata": {},
   "outputs": [],
   "source": [
    "\n",
    "from sklearn.metrics import roc_auc_score, accuracy_score\n",
    "\n",
    "from src.data_eng.folds import load_multi_ticker_collection\n",
    "from src.modeling.global_pairs import build_global_fold_pairs, build_global_insample_and_test\n",
    "\n",
    "# 1) get data\n",
    "collection = load_multi_ticker_collection(conf)\n",
    "\n",
    "# 2) build global fold pairs\n",
    "pairs = build_global_fold_pairs(collection)"
   ]
  },
  {
   "cell_type": "markdown",
   "id": "50c83fcc",
   "metadata": {},
   "source": [
    "## Hyperparameter tuning"
   ]
  },
  {
   "cell_type": "code",
   "execution_count": null,
   "id": "ac6c23af",
   "metadata": {},
   "outputs": [
    {
     "name": "stdout",
     "output_type": "stream",
     "text": [
      "Fitting 5 folds for each of 50 candidates, totalling 250 fits\n",
      "Best parameters: {'linearsvc__C': np.float64(0.0013289448722869186)}\n",
      "Best score: 0.5420395985788524\n"
     ]
    }
   ],
   "source": [
    "from sklearn.model_selection import RandomizedSearchCV\n",
    "from scipy.stats import loguniform\n",
    "from sklearn.pipeline import make_pipeline\n",
    "from sklearn.preprocessing import StandardScaler\n",
    "from sklearn.svm import LinearSVC\n",
    "from src.data_eng.get_data import get_train_test_data\n",
    "\n",
    "import warnings\n",
    "from sklearn.exceptions import ConvergenceWarning\n",
    "\n",
    "warnings.filterwarnings(\"ignore\", category=ConvergenceWarning)\n",
    "\n",
    "\n",
    "X_test, y_test, X_train, y_train = get_train_test_data(conf)\n",
    "\n",
    "def numeric_only(df: pd.DataFrame) -> pd.DataFrame:\n",
    "    return df.select_dtypes(include=[np.number]).copy()\n",
    "\n",
    "X_train = numeric_only(X_train).replace([np.inf, -np.inf], np.nan).fillna(0.0)\n",
    "X_test  = numeric_only(X_test).replace([np.inf, -np.inf], np.nan).fillna(0.0)\n",
    "\n",
    "\n",
    "\n",
    "pipe = make_pipeline(\n",
    "    StandardScaler(with_mean=False),\n",
    "    LinearSVC(\n",
    "        max_iter=20000,\n",
    "        loss=\"hinge\",          # fixed as requested\n",
    "        dual=True,             # hinge requires dual=True\n",
    "        class_weight=\"balanced\"  # fixed as requested\n",
    "    )\n",
    ")\n",
    "# params\n",
    "param_dist = {\n",
    "    \"linearsvc__C\": loguniform(1e-3, 1e3)\n",
    "}\n",
    "\n",
    "search = RandomizedSearchCV(\n",
    "    estimator=pipe,\n",
    "    param_distributions=param_dist,\n",
    "    n_iter=50,                   \n",
    "    scoring=\"roc_auc\",           \n",
    "    cv=5,\n",
    "    random_state=42,\n",
    "    verbose=1,\n",
    "    n_jobs=-1\n",
    ")\n",
    "\n",
    "search.fit(X_train, y_train)\n",
    "\n",
    "print(\"Best parameters:\", search.best_params_)\n",
    "print(\"Best score:\", search.best_score_)\n",
    "\n",
    "best_model = search.best_estimator_\n"
   ]
  },
  {
   "cell_type": "code",
   "execution_count": null,
   "id": "24831215",
   "metadata": {},
   "outputs": [],
   "source": [
    "from sklearn.pipeline import Pipeline\n",
    "from sklearn.compose import ColumnTransformer\n",
    "from sklearn.preprocessing import StandardScaler, OneHotEncoder\n",
    "from sklearn.svm import LinearSVC\n",
    "from sklearn.linear_model import SGDClassifier\n",
    "\n",
    "\n",
    "\n",
    "\n",
    "\n",
    "\n",
    "\n",
    "\n",
    "def make_global_pipeline(numeric_cols):\n",
    "    pre = ColumnTransformer([\n",
    "        (\"num\", StandardScaler(), numeric_cols),\n",
    "        (\"cat\", OneHotEncoder(handle_unknown=\"ignore\", sparse_output=False), [\"__ticker__\"]),\n",
    "    ])\n",
    "    return Pipeline([\n",
    "        (\"pre\", pre),\n",
    "        (\"clf\", LinearSVC(penalty='l2', C=1.0, max_iter=3000, random_state=42))\n",
    "    ])"
   ]
  },
  {
   "cell_type": "code",
   "execution_count": null,
   "id": "fbaa39b3",
   "metadata": {},
   "outputs": [],
   "source": []
  }
 ],
 "metadata": {
  "kernelspec": {
   "display_name": ".venv",
   "language": "python",
   "name": "python3"
  },
  "language_info": {
   "codemirror_mode": {
    "name": "ipython",
    "version": 3
   },
   "file_extension": ".py",
   "mimetype": "text/x-python",
   "name": "python",
   "nbconvert_exporter": "python",
   "pygments_lexer": "ipython3",
   "version": "3.13.5"
  }
 },
 "nbformat": 4,
 "nbformat_minor": 5
}
